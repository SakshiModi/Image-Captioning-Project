{
  "nbformat": 4,
  "nbformat_minor": 0,
  "metadata": {
    "colab": {
      "name": "read_and_preprocess_data.ipynb",
      "provenance": [],
      "collapsed_sections": []
    },
    "kernelspec": {
      "name": "python3",
      "display_name": "Python 3"
    },
    "language_info": {
      "name": "python"
    }
  },
  "cells": [
    {
      "cell_type": "code",
      "source": [
        "import json"
      ],
      "metadata": {
        "id": "ENjLgzDgyRVk"
      },
      "execution_count": 1,
      "outputs": []
    },
    {
      "cell_type": "code",
      "source": [
        "def read_captions(file_location):\n",
        "  image_caption_list={}\n",
        "  with open(file_location,\"r\") as file_obj:\n",
        "    for data in file_obj.readlines():\n",
        "      splitted_data=data.strip().split(\"\\t\")\n",
        "      image_name=splitted_data[0][:-2]\n",
        "      image_caption=splitted_data[1]\n",
        "      if image_name not in image_caption_list:\n",
        "        image_caption_list[image_name]=[]\n",
        "      image_caption_list[image_name].append(image_caption)\n",
        "  return image_caption_list"
      ],
      "metadata": {
        "id": "gn6WLPQyK5GU"
      },
      "execution_count": 2,
      "outputs": []
    },
    {
      "cell_type": "code",
      "source": [
        "def map_image_captions(file_location,image_caption_list):\n",
        "  image_caption_mapping={}\n",
        "  with open(file_location,\"r\") as file_obj:\n",
        "    for img_name in file_obj.readlines():\n",
        "      image_name=img_name.strip()\n",
        "      if image_name in image_caption_list:\n",
        "        image_caption_mapping[image_name]=image_caption_list[image_name]\n",
        "      else:\n",
        "        print(image_name)\n",
        "  return image_caption_mapping"
      ],
      "metadata": {
        "id": "DB0QrAnRIYqk"
      },
      "execution_count": 3,
      "outputs": []
    },
    {
      "cell_type": "code",
      "source": [
        "image_caption_file_location=\"/content/drive/MyDrive/Colab Notebooks/Image Captioning/Flickr8k_text/Flickr8k.lemma.token.txt\"\n",
        "image_caption_list=read_captions(image_caption_file_location)"
      ],
      "metadata": {
        "id": "YBX1qGUfLogg"
      },
      "execution_count": 4,
      "outputs": []
    },
    {
      "cell_type": "code",
      "source": [
        "train_image_name_file_location=\"/content/drive/MyDrive/Colab Notebooks/Image Captioning/Flickr8k_text/Flickr_8k.trainImages.txt\"\n",
        "test_image_name_file_location=\"/content/drive/MyDrive/Colab Notebooks/Image Captioning/Flickr8k_text/Flickr_8k.testImages.txt\"\n",
        "train_image_caption_mapping=map_image_captions(train_image_name_file_location,image_caption_list)\n",
        "test_image_caption_mapping=map_image_captions(test_image_name_file_location,image_caption_list)"
      ],
      "metadata": {
        "id": "FJNV1t8xKLl8"
      },
      "execution_count": 5,
      "outputs": []
    },
    {
      "cell_type": "code",
      "source": [
        "def create_json_dump(all_data,file_name):\n",
        "  with open (file_name,\"w\") as file_obj:\n",
        "    json.dump(all_data,file_obj)"
      ],
      "metadata": {
        "id": "Q-wko8kpx52l"
      },
      "execution_count": 6,
      "outputs": []
    },
    {
      "cell_type": "code",
      "source": [
        "all_data={'train_image_caption_mapping':train_image_caption_mapping,'test_image_caption_mapping':test_image_caption_mapping}\n",
        "json_file_name=\"/content/drive/MyDrive/Colab Notebooks/Image Captioning/json_files/all_data.json\"\n",
        "create_json_dump(all_data,json_file_name)"
      ],
      "metadata": {
        "id": "6O2XgkMvQCy3"
      },
      "execution_count": 7,
      "outputs": []
    },
    {
      "cell_type": "code",
      "source": [
        ""
      ],
      "metadata": {
        "id": "CuhpzJFGyyVP"
      },
      "execution_count": null,
      "outputs": []
    }
  ]
}