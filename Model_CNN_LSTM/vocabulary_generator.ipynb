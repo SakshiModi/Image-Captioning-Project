{
  "nbformat": 4,
  "nbformat_minor": 0,
  "metadata": {
    "colab": {
      "name": "vocabulary_generator.ipynb",
      "provenance": [],
      "collapsed_sections": []
    },
    "kernelspec": {
      "name": "python3",
      "display_name": "Python 3"
    },
    "language_info": {
      "name": "python"
    },
    "accelerator": "GPU"
  },
  "cells": [
    {
      "cell_type": "code",
      "source": [
        "import json"
      ],
      "metadata": {
        "id": "4W1pSOzDqlW0"
      },
      "execution_count": 1,
      "outputs": []
    },
    {
      "cell_type": "code",
      "source": [
        "def load_json_file(json_file_name):\n",
        "  file_obj=open(json_file_name)\n",
        "  all_data=json.load(file_obj)\n",
        "  train_image_caption_mapping=all_data['train_image_caption_mapping']\n",
        "  file_obj.close()\n",
        "  return all_data,train_image_caption_mapping"
      ],
      "metadata": {
        "id": "1BnaYefjzNox"
      },
      "execution_count": 2,
      "outputs": []
    },
    {
      "cell_type": "code",
      "source": [
        "json_file_name=\"/content/drive/MyDrive/Colab Notebooks/Image Captioning/json_files/all_data.json\"\n",
        "all_data,train_image_caption_mapping=load_json_file(json_file_name)"
      ],
      "metadata": {
        "id": "qhGjW0rm0Gd6"
      },
      "execution_count": 3,
      "outputs": []
    },
    {
      "cell_type": "code",
      "source": [
        "def create_unique_words_set(train_image_caption_mapping):\n",
        "  unique_word_to_code_mapping={\"Unk\":0}\n",
        "  unique_code_to_word_mapping={0:\"Unk\"}\n",
        "  new_code=1\n",
        "  max_caption_length=0\n",
        "  for image_name in train_image_caption_mapping:\n",
        "    for caption in train_image_caption_mapping[image_name]:\n",
        "      temp_list=caption.strip().split(\" \")\n",
        "      for word in temp_list:\n",
        "        if word not in unique_word_to_code_mapping:\n",
        "          unique_word_to_code_mapping[word]=new_code\n",
        "          new_code+=1\n",
        "          unique_code_to_word_mapping[new_code]=word\n",
        "      max_caption_length=max(max_caption_length,len(temp_list))\n",
        "  return unique_word_to_code_mapping,unique_code_to_word_mapping,max_caption_length"
      ],
      "metadata": {
        "id": "Ko_lRjAe8dEb"
      },
      "execution_count": 4,
      "outputs": []
    },
    {
      "cell_type": "code",
      "source": [
        "unique_word_to_code_mapping,unique_code_to_word_mapping,max_caption_length=create_unique_words_set(train_image_caption_mapping)"
      ],
      "metadata": {
        "id": "6s1B77SV_g6f"
      },
      "execution_count": 5,
      "outputs": []
    },
    {
      "cell_type": "code",
      "source": [
        "def enocode_train_captions(train_image_caption_mapping,unique_word_to_code_mapping,max_caption_length):\n",
        "  train_image_encoded_captions={}\n",
        "  for image_name in train_image_caption_mapping:\n",
        "    train_image_encoded_captions[image_name]=[]\n",
        "    for caption in train_image_caption_mapping[image_name]:\n",
        "      temp_list=caption.strip().split(\" \")\n",
        "      temp_encoded_caption=[0]*max_caption_length\n",
        "      temp_pointer=0\n",
        "      for word in temp_list:\n",
        "        temp_encoded_caption[temp_pointer]=unique_word_to_code_mapping[word]\n",
        "        temp_pointer+=1\n",
        "      train_image_encoded_captions[image_name].append(temp_encoded_caption)\n",
        "  return train_image_encoded_captions"
      ],
      "metadata": {
        "id": "pe7W7FJOAwfX"
      },
      "execution_count": 6,
      "outputs": []
    },
    {
      "cell_type": "code",
      "source": [
        "train_image_encoded_captions=enocode_train_captions(train_image_caption_mapping,unique_word_to_code_mapping,max_caption_length)"
      ],
      "metadata": {
        "id": "0j9atEXeCm_Y"
      },
      "execution_count": 7,
      "outputs": []
    },
    {
      "cell_type": "code",
      "source": [
        "def create_json_dump(all_data,file_name):\n",
        "  with open (file_name,\"w\") as file_obj:\n",
        "    json.dump(all_data,file_obj)"
      ],
      "metadata": {
        "id": "wCyVHeU51sf-"
      },
      "execution_count": 8,
      "outputs": []
    },
    {
      "cell_type": "code",
      "source": [
        "all_data['unique_code_to_word_mapping']=unique_code_to_word_mapping\n",
        "all_data['train_image_encoded_captions']=train_image_encoded_captions\n",
        "create_json_dump(all_data,json_file_name)"
      ],
      "metadata": {
        "id": "0rLsFzBu4X-w"
      },
      "execution_count": 9,
      "outputs": []
    },
    {
      "cell_type": "code",
      "source": [
        ""
      ],
      "metadata": {
        "id": "-FBeDN734qtP"
      },
      "execution_count": null,
      "outputs": []
    }
  ]
}