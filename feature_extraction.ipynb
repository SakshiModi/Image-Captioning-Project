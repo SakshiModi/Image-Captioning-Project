{
  "nbformat": 4,
  "nbformat_minor": 0,
  "metadata": {
    "colab": {
      "name": "feature_extraction.ipynb",
      "provenance": [],
      "collapsed_sections": []
    },
    "kernelspec": {
      "name": "python3",
      "display_name": "Python 3"
    },
    "language_info": {
      "name": "python"
    },
    "accelerator": "GPU"
  },
  "cells": [
    {
      "cell_type": "code",
      "source": [
        "import json\n",
        "import numpy as np\n",
        "import tensorflow\n",
        "from tensorflow.keras.applications.resnet50 import ResNet50\n",
        "from keras.preprocessing import image\n",
        "from keras.applications.vgg16 import preprocess_input\n",
        "from tqdm import tqdm\n",
        "import pickle"
      ],
      "metadata": {
        "id": "4W1pSOzDqlW0"
      },
      "execution_count": 1,
      "outputs": []
    },
    {
      "cell_type": "code",
      "source": [
        "def load_json_file(json_file_name):\n",
        "  file_obj=open(json_file_name)\n",
        "  all_data=json.load(file_obj)\n",
        "  train_image_caption_mapping=all_data['train_image_caption_mapping']\n",
        "  test_image_caption_mapping=all_data['test_image_caption_mapping']\n",
        "  file_obj.close()\n",
        "  return train_image_caption_mapping,test_image_caption_mapping"
      ],
      "metadata": {
        "id": "1BnaYefjzNox"
      },
      "execution_count": 2,
      "outputs": []
    },
    {
      "cell_type": "code",
      "source": [
        "json_file_name=\"/content/drive/MyDrive/Colab Notebooks/Image Captioning/json_files/all_data.json\"\n",
        "train_image_caption_mapping,test_image_caption_mapping=load_json_file(json_file_name)"
      ],
      "metadata": {
        "id": "qhGjW0rm0Gd6"
      },
      "execution_count": 3,
      "outputs": []
    },
    {
      "cell_type": "code",
      "source": [
        "def image_feature_extraction(image_caption_mapping,folder_location,resnet_model):\n",
        "  image_features={}\n",
        "  for image_name in tqdm(image_caption_mapping):\n",
        "    image_location=folder_location+image_name\n",
        "    image_loaded=image.load_img(image_location,target_size=(224,224))\n",
        "    model_input=preprocess_input(np.expand_dims(image.img_to_array(image_loaded), axis=0))\n",
        "    features=resnet_model.predict(model_input)\n",
        "    image_features[image_name]=features.squeeze()\n",
        "  return image_features"
      ],
      "metadata": {
        "id": "3ZbX-WXXq5iG"
      },
      "execution_count": 4,
      "outputs": []
    },
    {
      "cell_type": "code",
      "source": [
        "image_dataset_folder_location=\"/content/drive/MyDrive/Colab Notebooks/Image Captioning/Flickr8k_Dataset/Flicker8k_Dataset/\"\n",
        "resnet_model=ResNet50(include_top=False, weights='imagenet',pooling='avg',input_shape=(224,224,3))\n",
        "train_image_features=image_feature_extraction(train_image_caption_mapping,image_dataset_folder_location,resnet_model)\n",
        "test_image_features=image_feature_extraction(test_image_caption_mapping,image_dataset_folder_location,resnet_model)"
      ],
      "metadata": {
        "colab": {
          "base_uri": "https://localhost:8080/"
        },
        "id": "RQ0-Ostyrid6",
        "outputId": "8a832ae7-c595-45aa-b6af-7a711183133b"
      },
      "execution_count": 5,
      "outputs": [
        {
          "output_type": "stream",
          "name": "stdout",
          "text": [
            "Downloading data from https://storage.googleapis.com/tensorflow/keras-applications/resnet/resnet50_weights_tf_dim_ordering_tf_kernels_notop.h5\n",
            "94773248/94765736 [==============================] - 1s 0us/step\n",
            "94781440/94765736 [==============================] - 1s 0us/step\n"
          ]
        },
        {
          "output_type": "stream",
          "name": "stderr",
          "text": [
            "100%|██████████| 6000/6000 [35:34<00:00,  2.81it/s]\n",
            "100%|██████████| 1000/1000 [05:51<00:00,  2.84it/s]\n"
          ]
        }
      ]
    },
    {
      "cell_type": "code",
      "source": [
        "def create_pickle_dump(train_image_features_pickle,test_image_features_pickle):\n",
        "  pickle.dump(train_image_features,open(train_image_features_pickle,\"wb\"))\n",
        "  pickle.dump(test_image_features,open(test_image_features_pickle,\"wb\"))"
      ],
      "metadata": {
        "id": "wCyVHeU51sf-"
      },
      "execution_count": 6,
      "outputs": []
    },
    {
      "cell_type": "code",
      "source": [
        "train_image_features_pickle=\"/content/drive/MyDrive/Colab Notebooks/Image Captioning/pickle_files/train_image_features.pkl\"\n",
        "test_image_features_pickle=\"/content/drive/MyDrive/Colab Notebooks/Image Captioning/pickle_files/test_image_features.pkl\"\n",
        "create_pickle_dump(train_image_features_pickle,test_image_features_pickle)"
      ],
      "metadata": {
        "id": "0rLsFzBu4X-w"
      },
      "execution_count": 7,
      "outputs": []
    },
    {
      "cell_type": "code",
      "source": [
        ""
      ],
      "metadata": {
        "id": "-FBeDN734qtP"
      },
      "execution_count": null,
      "outputs": []
    }
  ]
}